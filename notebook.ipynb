{
 "cells": [
  {
   "cell_type": "markdown",
   "metadata": {},
   "source": [
    "# Imports"
   ]
  },
  {
   "cell_type": "code",
   "execution_count": 57,
   "metadata": {},
   "outputs": [],
   "source": [
    "import matplotlib.pyplot as plt\n",
    "import numpy as np\n",
    "import pandas as pd\n",
    "import seaborn as sns\n",
    "sns.set_theme()\n",
    "from scipy import stats\n",
    "from sklearn.ensemble import RandomForestClassifier\n",
    "from sklearn.feature_selection import SelectFromModel\n",
    "from sklearn.linear_model import LogisticRegression, SGDClassifier\n",
    "from sklearn.metrics import make_scorer, roc_auc_score\n",
    "from sklearn.model_selection import cross_val_predict\n",
    "from sklearn.naive_bayes import GaussianNB\n",
    "from sklearn.neighbors import KNeighborsClassifier\n",
    "from sklearn.pipeline import Pipeline\n",
    "from sklearn.tree import DecisionTreeClassifier\n",
    "from sklearn.svm import SVC"
   ]
  },
  {
   "cell_type": "code",
   "execution_count": 2,
   "metadata": {},
   "outputs": [],
   "source": [
    "train = pd.read_csv(\"data/train.csv\")\n",
    "test = pd.read_csv(\"data/test.csv\")"
   ]
  },
  {
   "cell_type": "markdown",
   "metadata": {},
   "source": [
    "Test set is much more bigger than train set, and the latter is quite small so it will be challenge to create a model which will generalize well.  "
   ]
  },
  {
   "cell_type": "code",
   "execution_count": 4,
   "metadata": {},
   "outputs": [
    {
     "name": "stdout",
     "output_type": "stream",
     "text": [
      "Train set samples: 250\n",
      "Train set features: 302\n"
     ]
    }
   ],
   "source": [
    "print(\"Train set samples:\", train.shape[0])\n",
    "print(\"Train set features:\", train.shape[1])"
   ]
  },
  {
   "cell_type": "code",
   "execution_count": 5,
   "metadata": {},
   "outputs": [
    {
     "name": "stdout",
     "output_type": "stream",
     "text": [
      "Test set samples: 19750\n",
      "Test set features: 301\n"
     ]
    }
   ],
   "source": [
    "print(\"Test set samples:\", test.shape[0])\n",
    "print(\"Test set features:\", test.shape[1])"
   ]
  },
  {
   "cell_type": "markdown",
   "metadata": {},
   "source": [
    "# Base models"
   ]
  },
  {
   "cell_type": "code",
   "execution_count": 6,
   "metadata": {},
   "outputs": [
    {
     "data": {
      "image/png": "[encoded data removed]",
      "text/plain": [
       "<Figure size 432x288 with 1 Axes>"
      ]
     },
     "metadata": {},
     "output_type": "display_data"
    }
   ],
   "source": [
    "sns.histplot(data=train, x=\"target\");"
   ]
  },
  {
   "cell_type": "code",
   "execution_count": 7,
   "metadata": {},
   "outputs": [],
   "source": [
    "output = pd.DataFrame({\"id\": test[\"id\"], \"target\": 1})\n",
    "output.to_csv(\"submissions/base_predictions.csv\", index=False)"
   ]
  },
  {
   "cell_type": "markdown",
   "metadata": {},
   "source": [
    "In base model predictions I set all values to 1 since it is the most frequent value in our train set and after submission I got 0.5 score. It seems that one half of test data is equal to 0's and another - 1's. Let's try simple logistic regression model before diving deeper to feature engineering and more complex models. Logistic regression model improved our score by 0.13 - 0.63."
   ]
  },
  {
   "cell_type": "code",
   "execution_count": 8,
   "metadata": {},
   "outputs": [],
   "source": [
    "X_train = train.drop(columns=[\"id\", \"target\"])\n",
    "y_train = train[\"target\"]\n",
    "X_test = test.drop(columns=[\"id\"])\n",
    "\n",
    "log_reg = LogisticRegression().fit(X_train, y_train)\n",
    "predictions = log_reg.predict(X_test)"
   ]
  },
  {
   "cell_type": "code",
   "execution_count": 9,
   "metadata": {},
   "outputs": [],
   "source": [
    "output = pd.DataFrame({\"id\": test[\"id\"], \"target\": predictions})\n",
    "output.to_csv(\"submissions/base_predictions.csv\", index=False)"
   ]
  },
  {
   "cell_type": "markdown",
   "metadata": {},
   "source": [
    "# Main models"
   ]
  },
  {
   "cell_type": "code",
   "execution_count": 41,
   "metadata": {},
   "outputs": [
    {
     "data": {
      "text/html": [
       "<div>\n",
       "<style scoped>\n",
       "    .dataframe tbody tr th:only-of-type {\n",
       "        vertical-align: middle;\n",
       "    }\n",
       "\n",
       "    .dataframe tbody tr th {\n",
       "        vertical-align: top;\n",
       "    }\n",
       "\n",
       "    .dataframe thead th {\n",
       "        text-align: right;\n",
       "    }\n",
       "</style>\n",
       "<table border=\"1\" class=\"dataframe\">\n",
       "  <thead>\n",
       "    <tr style=\"text-align: right;\">\n",
       "      <th></th>\n",
       "      <th>id</th>\n",
       "      <th>target</th>\n",
       "      <th>0</th>\n",
       "      <th>1</th>\n",
       "      <th>2</th>\n",
       "      <th>3</th>\n",
       "      <th>4</th>\n",
       "      <th>5</th>\n",
       "      <th>6</th>\n",
       "      <th>7</th>\n",
       "      <th>...</th>\n",
       "      <th>290</th>\n",
       "      <th>291</th>\n",
       "      <th>292</th>\n",
       "      <th>293</th>\n",
       "      <th>294</th>\n",
       "      <th>295</th>\n",
       "      <th>296</th>\n",
       "      <th>297</th>\n",
       "      <th>298</th>\n",
       "      <th>299</th>\n",
       "    </tr>\n",
       "  </thead>\n",
       "  <tbody>\n",
       "    <tr>\n",
       "      <th>0</th>\n",
       "      <td>0</td>\n",
       "      <td>1.0</td>\n",
       "      <td>-0.098</td>\n",
       "      <td>2.165</td>\n",
       "      <td>0.681</td>\n",
       "      <td>-0.614</td>\n",
       "      <td>1.309</td>\n",
       "      <td>-0.455</td>\n",
       "      <td>-0.236</td>\n",
       "      <td>0.276</td>\n",
       "      <td>...</td>\n",
       "      <td>0.867</td>\n",
       "      <td>1.347</td>\n",
       "      <td>0.504</td>\n",
       "      <td>-0.649</td>\n",
       "      <td>0.672</td>\n",
       "      <td>-2.097</td>\n",
       "      <td>1.051</td>\n",
       "      <td>-0.414</td>\n",
       "      <td>1.038</td>\n",
       "      <td>-1.065</td>\n",
       "    </tr>\n",
       "    <tr>\n",
       "      <th>1</th>\n",
       "      <td>1</td>\n",
       "      <td>0.0</td>\n",
       "      <td>1.081</td>\n",
       "      <td>-0.973</td>\n",
       "      <td>-0.383</td>\n",
       "      <td>0.326</td>\n",
       "      <td>-0.428</td>\n",
       "      <td>0.317</td>\n",
       "      <td>1.172</td>\n",
       "      <td>0.352</td>\n",
       "      <td>...</td>\n",
       "      <td>-0.165</td>\n",
       "      <td>-1.695</td>\n",
       "      <td>-1.257</td>\n",
       "      <td>1.359</td>\n",
       "      <td>-0.808</td>\n",
       "      <td>-1.624</td>\n",
       "      <td>-0.458</td>\n",
       "      <td>-1.099</td>\n",
       "      <td>-0.936</td>\n",
       "      <td>0.973</td>\n",
       "    </tr>\n",
       "    <tr>\n",
       "      <th>2</th>\n",
       "      <td>2</td>\n",
       "      <td>1.0</td>\n",
       "      <td>-0.523</td>\n",
       "      <td>-0.089</td>\n",
       "      <td>-0.348</td>\n",
       "      <td>0.148</td>\n",
       "      <td>-0.022</td>\n",
       "      <td>0.404</td>\n",
       "      <td>-0.023</td>\n",
       "      <td>-0.172</td>\n",
       "      <td>...</td>\n",
       "      <td>0.013</td>\n",
       "      <td>0.263</td>\n",
       "      <td>-1.222</td>\n",
       "      <td>0.726</td>\n",
       "      <td>1.444</td>\n",
       "      <td>-1.165</td>\n",
       "      <td>-1.544</td>\n",
       "      <td>0.004</td>\n",
       "      <td>0.800</td>\n",
       "      <td>-1.211</td>\n",
       "    </tr>\n",
       "    <tr>\n",
       "      <th>3</th>\n",
       "      <td>3</td>\n",
       "      <td>1.0</td>\n",
       "      <td>0.067</td>\n",
       "      <td>-0.021</td>\n",
       "      <td>0.392</td>\n",
       "      <td>-1.637</td>\n",
       "      <td>-0.446</td>\n",
       "      <td>-0.725</td>\n",
       "      <td>-1.035</td>\n",
       "      <td>0.834</td>\n",
       "      <td>...</td>\n",
       "      <td>-0.404</td>\n",
       "      <td>0.640</td>\n",
       "      <td>-0.595</td>\n",
       "      <td>-0.966</td>\n",
       "      <td>0.900</td>\n",
       "      <td>0.467</td>\n",
       "      <td>-0.562</td>\n",
       "      <td>-0.254</td>\n",
       "      <td>-0.533</td>\n",
       "      <td>0.238</td>\n",
       "    </tr>\n",
       "    <tr>\n",
       "      <th>4</th>\n",
       "      <td>4</td>\n",
       "      <td>1.0</td>\n",
       "      <td>2.347</td>\n",
       "      <td>-0.831</td>\n",
       "      <td>0.511</td>\n",
       "      <td>-0.021</td>\n",
       "      <td>1.225</td>\n",
       "      <td>1.594</td>\n",
       "      <td>0.585</td>\n",
       "      <td>1.509</td>\n",
       "      <td>...</td>\n",
       "      <td>0.898</td>\n",
       "      <td>0.134</td>\n",
       "      <td>2.415</td>\n",
       "      <td>-0.996</td>\n",
       "      <td>-1.006</td>\n",
       "      <td>1.378</td>\n",
       "      <td>1.246</td>\n",
       "      <td>1.478</td>\n",
       "      <td>0.428</td>\n",
       "      <td>0.253</td>\n",
       "    </tr>\n",
       "  </tbody>\n",
       "</table>\n",
       "<p>5 rows × 302 columns</p>\n",
       "</div>"
      ],
      "text/plain": [
       "   id  target      0      1      2      3      4      5      6      7  ...  \\\n",
       "0   0     1.0 -0.098  2.165  0.681 -0.614  1.309 -0.455 -0.236  0.276  ...   \n",
       "1   1     0.0  1.081 -0.973 -0.383  0.326 -0.428  0.317  1.172  0.352  ...   \n",
       "2   2     1.0 -0.523 -0.089 -0.348  0.148 -0.022  0.404 -0.023 -0.172  ...   \n",
       "3   3     1.0  0.067 -0.021  0.392 -1.637 -0.446 -0.725 -1.035  0.834  ...   \n",
       "4   4     1.0  2.347 -0.831  0.511 -0.021  1.225  1.594  0.585  1.509  ...   \n",
       "\n",
       "     290    291    292    293    294    295    296    297    298    299  \n",
       "0  0.867  1.347  0.504 -0.649  0.672 -2.097  1.051 -0.414  1.038 -1.065  \n",
       "1 -0.165 -1.695 -1.257  1.359 -0.808 -1.624 -0.458 -1.099 -0.936  0.973  \n",
       "2  0.013  0.263 -1.222  0.726  1.444 -1.165 -1.544  0.004  0.800 -1.211  \n",
       "3 -0.404  0.640 -0.595 -0.966  0.900  0.467 -0.562 -0.254 -0.533  0.238  \n",
       "4  0.898  0.134  2.415 -0.996 -1.006  1.378  1.246  1.478  0.428  0.253  \n",
       "\n",
       "[5 rows x 302 columns]"
      ]
     },
     "execution_count": 41,
     "metadata": {},
     "output_type": "execute_result"
    }
   ],
   "source": [
    "train.head()"
   ]
  },
  {
   "cell_type": "code",
   "execution_count": 49,
   "metadata": {},
   "outputs": [],
   "source": [
    "max_list = [train[column].max() for column in train.drop(columns=[\"id\", \"target\"]).columns]\n",
    "min_list = [train[column].min() for column in train.drop(columns=[\"id\", \"target\"]).columns]\n",
    "mean_list = [train[column].mean() for column in train.drop(columns=[\"id\", \"target\"]).columns]\n",
    "\n",
    "min_max_df = pd.DataFrame({\"max\": max_list, \"min\": min_list, \"mean\": mean_list})"
   ]
  },
  {
   "cell_type": "code",
   "execution_count": 63,
   "metadata": {},
   "outputs": [
    {
     "data": {
      "image/png": "[encoded data removed]",
      "text/plain": [
       "<Figure size 1512x432 with 3 Axes>"
      ]
     },
     "metadata": {},
     "output_type": "display_data"
    }
   ],
   "source": [
    "fig, axes = plt.subplots(ncols=3, figsize=(21,6))\n",
    "sns.boxplot(ax=axes[0], y=min_max_df[\"min\"])\n",
    "sns.boxplot(ax=axes[1], y=min_max_df[\"max\"])\n",
    "sns.boxplot(ax=axes[2], y=min_max_df[\"mean\"])\n",
    "fig.suptitle(\"Distribution of min, max and mean values of all features\", y=0.95, fontsize=14, fontweight=\"bold\");"
   ]
  },
  {
   "cell_type": "markdown",
   "metadata": {},
   "source": [
    "From the boxplots above we see that the variance of data is quite small. Therefore scaling the data is not useful in this case."
   ]
  },
  {
   "cell_type": "code",
   "execution_count": 10,
   "metadata": {},
   "outputs": [],
   "source": [
    "X_train = train.drop(columns=[\"id\", \"target\"])\n",
    "y_train = train[\"target\"]\n",
    "X_test = test.drop(columns=[\"id\"])"
   ]
  },
  {
   "cell_type": "markdown",
   "metadata": {},
   "source": [
    "Whereas all data is uniform I have tried just a few approaches how to tweak models: features selection and hyperparameters tuning. The best score was achieved with Logistic Regression model - 0.834. Not far from this was my attempt to average probabilities from all models - 0.792. The results of K-nearest neighbors and Decision Tree models were just a little better than my base model, where all my predictions were just one class.\n",
    "\n",
    "All my models and detailed results are below."
   ]
  },
  {
   "cell_type": "markdown",
   "metadata": {},
   "source": [
    "## Logistic Regression"
   ]
  },
  {
   "cell_type": "code",
   "execution_count": 11,
   "metadata": {},
   "outputs": [],
   "source": [
    "log_reg = LogisticRegression(random_state=42, penalty=\"l1\", C=0.1, solver=\"liblinear\")"
   ]
  },
  {
   "cell_type": "code",
   "execution_count": 12,
   "metadata": {},
   "outputs": [
    {
     "name": "stdout",
     "output_type": "stream",
     "text": [
      "Cross-validation score: 0.808\n"
     ]
    }
   ],
   "source": [
    "log_pipe = Pipeline(\n",
    "    steps=[\n",
    "        (\"selector\", SelectFromModel(estimator=log_reg, threshold=\"2.5*mean\")),\n",
    "        (\"model\", log_reg)\n",
    "    ]\n",
    ")\n",
    " \n",
    "log_probs = cross_val_predict(log_pipe, X_train, y_train, method=\"predict_proba\")\n",
    "log_score_rt = round(roc_auc_score(y_train, log_probs[:, 1]), 3)\n",
    "print(\"Cross-validation score:\", log_score_rt)"
   ]
  },
  {
   "cell_type": "code",
   "execution_count": 13,
   "metadata": {},
   "outputs": [],
   "source": [
    "log_pipe.fit(X_train, y_train)\n",
    "log_predictions = log_pipe.predict_proba(X_test)\n",
    "\n",
    "output = pd.DataFrame({\"id\": test[\"id\"], \"target\": log_predictions[:, 1]})\n",
    "output.to_csv(\"submissions/log_predictions.csv\", index=False)"
   ]
  },
  {
   "cell_type": "markdown",
   "metadata": {},
   "source": [
    "## Naive Bayes"
   ]
  },
  {
   "cell_type": "code",
   "execution_count": 14,
   "metadata": {},
   "outputs": [
    {
     "name": "stdout",
     "output_type": "stream",
     "text": [
      "Cross-validation score: 0.704\n"
     ]
    }
   ],
   "source": [
    "nb = GaussianNB()\n",
    "\n",
    "nb_probs = cross_val_predict(nb, X_train, y_train, method=\"predict_proba\")\n",
    "nb_score_rt = round(roc_auc_score(y_train, nb_probs[:, 1]), 3)\n",
    "print(\"Cross-validation score:\", nb_score_rt)"
   ]
  },
  {
   "cell_type": "code",
   "execution_count": 15,
   "metadata": {},
   "outputs": [],
   "source": [
    "nb.fit(X_train, y_train)\n",
    "nb_predictions = nb.predict_proba(X_test)\n",
    "\n",
    "output = pd.DataFrame({\"id\": test[\"id\"], \"target\": nb_predictions[:, 1]})\n",
    "output.to_csv(\"submissions/nb_predictions.csv\", index=False)"
   ]
  },
  {
   "cell_type": "markdown",
   "metadata": {},
   "source": [
    "## Stochastic gradient descent"
   ]
  },
  {
   "cell_type": "markdown",
   "metadata": {},
   "source": [
    "Better score was achieved without hyperparameters tuning with GridSearchCV. "
   ]
  },
  {
   "cell_type": "code",
   "execution_count": 16,
   "metadata": {},
   "outputs": [
    {
     "name": "stdout",
     "output_type": "stream",
     "text": [
      "Cross-validation score: 0.717\n"
     ]
    }
   ],
   "source": [
    "sgd = SGDClassifier(loss=\"log\", random_state=42, penalty=\"elasticnet\", alpha=0.001, l1_ratio=0.1, max_iter=100)\n",
    "\n",
    "sgd_pipe = Pipeline(\n",
    "    steps=[\n",
    "        (\"selector\", SelectFromModel(estimator=sgd, threshold=\"2.2*mean\")),\n",
    "        (\"model\", sgd)\n",
    "    ]\n",
    ")\n",
    "\n",
    "sgd_probs = cross_val_predict(sgd_pipe, X_train, y_train, method=\"predict_proba\")\n",
    "sgd_score_rt = round(roc_auc_score(y_train, sgd_probs[:, 1]), 3)\n",
    "print(\"Cross-validation score:\", sgd_score_rt)"
   ]
  },
  {
   "cell_type": "code",
   "execution_count": 17,
   "metadata": {},
   "outputs": [],
   "source": [
    "sgd_pipe.fit(X_train, y_train)\n",
    "sgd_predictions = sgd_pipe.predict_proba(X_test)\n",
    "\n",
    "output = pd.DataFrame({\"id\": test[\"id\"], \"target\": sgd_predictions[:, 1]})\n",
    "output.to_csv(\"submissions/sgd_predictions.csv\", index=False)"
   ]
  },
  {
   "cell_type": "markdown",
   "metadata": {},
   "source": [
    "## K-nearest neighbors "
   ]
  },
  {
   "cell_type": "markdown",
   "metadata": {},
   "source": [
    "Score after hyperparameters tuning was even slightly worse."
   ]
  },
  {
   "cell_type": "code",
   "execution_count": 18,
   "metadata": {},
   "outputs": [
    {
     "name": "stdout",
     "output_type": "stream",
     "text": [
      "Cross-validation score: 0.563\n"
     ]
    }
   ],
   "source": [
    "knn = KNeighborsClassifier()\n",
    "\n",
    "knn_probs = cross_val_predict(knn, X_train, y_train, method=\"predict_proba\")\n",
    "knn_score_rt = round(roc_auc_score(y_train, knn_probs[:, 1]), 3)\n",
    "print(\"Cross-validation score:\", knn_score_rt)"
   ]
  },
  {
   "cell_type": "code",
   "execution_count": 19,
   "metadata": {},
   "outputs": [],
   "source": [
    "knn.fit(X_train, y_train)\n",
    "knn_predictions = knn.predict_proba(X_test)\n",
    "\n",
    "output = pd.DataFrame({\"id\": test[\"id\"], \"target\": knn_predictions[:, 1]})\n",
    "output.to_csv(\"submissions/knn_predictions.csv\", index=False)"
   ]
  },
  {
   "cell_type": "markdown",
   "metadata": {},
   "source": [
    "## Decision tree"
   ]
  },
  {
   "cell_type": "markdown",
   "metadata": {},
   "source": [
    "Score after hyperparameters tuning was even slightly worse."
   ]
  },
  {
   "cell_type": "code",
   "execution_count": 20,
   "metadata": {},
   "outputs": [
    {
     "name": "stdout",
     "output_type": "stream",
     "text": [
      "Cross-validation score: 0.534\n"
     ]
    }
   ],
   "source": [
    "dtree = DecisionTreeClassifier(random_state=42)\n",
    "\n",
    "dtree_pipe = Pipeline(\n",
    "    steps=[\n",
    "        (\"selector\", SelectFromModel(estimator=dtree, threshold=\"1.4*mean\")),\n",
    "        (\"model\", dtree)\n",
    "    ]\n",
    ")\n",
    "\n",
    "dtree_probs = cross_val_predict(dtree_pipe, X_train, y_train, method=\"predict_proba\")\n",
    "dtree_score_rt = round(roc_auc_score(y_train, dtree_probs[:, 1]), 3)\n",
    "print(\"Cross-validation score:\", dtree_score_rt)"
   ]
  },
  {
   "cell_type": "code",
   "execution_count": 21,
   "metadata": {},
   "outputs": [],
   "source": [
    "dtree_pipe.fit(X_train, y_train)\n",
    "dtree_predictions = dtree_pipe.predict_proba(X_test)\n",
    "\n",
    "output = pd.DataFrame({\"id\": test[\"id\"], \"target\": dtree_predictions[:, 1]})\n",
    "output.to_csv(\"submissions/dtree_predictions.csv\", index=False)"
   ]
  },
  {
   "cell_type": "markdown",
   "metadata": {},
   "source": [
    "## Random forest"
   ]
  },
  {
   "cell_type": "markdown",
   "metadata": {},
   "source": [
    "Hyperparameters tuning did not have any impact."
   ]
  },
  {
   "cell_type": "code",
   "execution_count": 22,
   "metadata": {},
   "outputs": [
    {
     "name": "stdout",
     "output_type": "stream",
     "text": [
      "Cross-validation score: 0.662\n"
     ]
    }
   ],
   "source": [
    "forest = RandomForestClassifier(random_state=42)\n",
    "\n",
    "forest_pipe = Pipeline(\n",
    "    steps=[\n",
    "        (\"selector\", SelectFromModel(estimator=forest, threshold=\"2.4*mean\")),\n",
    "        (\"model\", forest)\n",
    "    ]\n",
    ")\n",
    "\n",
    "forest_probs = cross_val_predict(forest_pipe, X_train, y_train, method=\"predict_proba\")\n",
    "forest_score_rt = round(roc_auc_score(y_train, forest_probs[:, 1]), 3)\n",
    "print(\"Cross-validation score:\", forest_score_rt)"
   ]
  },
  {
   "cell_type": "code",
   "execution_count": 23,
   "metadata": {},
   "outputs": [],
   "source": [
    "forest_pipe.fit(X_train, y_train)\n",
    "forest_predictions = forest_pipe.predict_proba(X_test)\n",
    "\n",
    "output = pd.DataFrame({\"id\": test[\"id\"], \"target\": forest_predictions[:, 1]})\n",
    "output.to_csv(\"submissions/forest_predictions.csv\", index=False)"
   ]
  },
  {
   "cell_type": "markdown",
   "metadata": {},
   "source": [
    "## Support vector machine"
   ]
  },
  {
   "cell_type": "code",
   "execution_count": 24,
   "metadata": {},
   "outputs": [
    {
     "name": "stdout",
     "output_type": "stream",
     "text": [
      "Cross-validation score: 0.744\n"
     ]
    }
   ],
   "source": [
    "svm = SVC(probability=True, random_state=42)\n",
    "\n",
    "svm_probs = cross_val_predict(svm, X_train, y_train, method=\"predict_proba\")\n",
    "svm_score_rt = round(roc_auc_score(y_train, svm_probs[:, 1]), 3)\n",
    "print(\"Cross-validation score:\", svm_score_rt)"
   ]
  },
  {
   "cell_type": "code",
   "execution_count": 25,
   "metadata": {},
   "outputs": [],
   "source": [
    "svm.fit(X_train, y_train)\n",
    "svm_predictions = svm.predict_proba(X_test)\n",
    "\n",
    "output = pd.DataFrame({\"id\": test[\"id\"], \"target\": svm_predictions[:, 1]})\n",
    "output.to_csv(\"submissions/svm_predictions.csv\", index=False)"
   ]
  },
  {
   "cell_type": "markdown",
   "metadata": {},
   "source": [
    "# Averaged predictions"
   ]
  },
  {
   "cell_type": "code",
   "execution_count": 26,
   "metadata": {},
   "outputs": [],
   "source": [
    "stacked_predictions = np.column_stack((log_predictions[:, 1], nb_predictions[:, 1], sgd_predictions[:, 1],\n",
    "                                       forest_predictions[:, 1], svm_predictions[:, 1]))\n",
    "\n",
    "averaged_predictions = stacked_predictions.mean(1).reshape(19750,)\n",
    "\n",
    "output = pd.DataFrame({\"id\": test[\"id\"], \"target\": averaged_predictions})\n",
    "output.to_csv(\"submissions/averaged_predictions.csv\", index=False)"
   ]
  },
  {
   "cell_type": "markdown",
   "metadata": {},
   "source": [
    "# Scores"
   ]
  },
  {
   "cell_type": "code",
   "execution_count": 27,
   "metadata": {},
   "outputs": [
    {
     "data": {
      "text/html": [
       "<div>\n",
       "<style scoped>\n",
       "    .dataframe tbody tr th:only-of-type {\n",
       "        vertical-align: middle;\n",
       "    }\n",
       "\n",
       "    .dataframe tbody tr th {\n",
       "        vertical-align: top;\n",
       "    }\n",
       "\n",
       "    .dataframe thead th {\n",
       "        text-align: right;\n",
       "    }\n",
       "</style>\n",
       "<table border=\"1\" class=\"dataframe\">\n",
       "  <thead>\n",
       "    <tr style=\"text-align: right;\">\n",
       "      <th></th>\n",
       "      <th>Base Score</th>\n",
       "      <th>Score</th>\n",
       "      <th>Kaggle Base Score</th>\n",
       "      <th>Kaggle Score</th>\n",
       "      <th>Real-Time Score</th>\n",
       "    </tr>\n",
       "  </thead>\n",
       "  <tbody>\n",
       "    <tr>\n",
       "      <th>Logistic Regression</th>\n",
       "      <td>0.74757</td>\n",
       "      <td>0.808</td>\n",
       "      <td>0.634</td>\n",
       "      <td>0.834</td>\n",
       "      <td>0.808</td>\n",
       "    </tr>\n",
       "    <tr>\n",
       "      <th>Naive Bayes</th>\n",
       "      <td>0.69792</td>\n",
       "      <td>0.704</td>\n",
       "      <td>0.591</td>\n",
       "      <td>0.661</td>\n",
       "      <td>0.704</td>\n",
       "    </tr>\n",
       "    <tr>\n",
       "      <th>Stochastic gradient descent</th>\n",
       "      <td>0.69792</td>\n",
       "      <td>0.717</td>\n",
       "      <td>0.617</td>\n",
       "      <td>0.774</td>\n",
       "      <td>0.717</td>\n",
       "    </tr>\n",
       "    <tr>\n",
       "      <th>K-nearest neighbors</th>\n",
       "      <td>0.56267</td>\n",
       "      <td>0.563</td>\n",
       "      <td>0.543</td>\n",
       "      <td>0.561</td>\n",
       "      <td>0.563</td>\n",
       "    </tr>\n",
       "    <tr>\n",
       "      <th>Decision Tree</th>\n",
       "      <td>0.51736</td>\n",
       "      <td>0.534</td>\n",
       "      <td>0.559</td>\n",
       "      <td>0.565</td>\n",
       "      <td>0.534</td>\n",
       "    </tr>\n",
       "    <tr>\n",
       "      <th>Random forest</th>\n",
       "      <td>0.65295</td>\n",
       "      <td>0.662</td>\n",
       "      <td>0.529</td>\n",
       "      <td>0.734</td>\n",
       "      <td>0.662</td>\n",
       "    </tr>\n",
       "    <tr>\n",
       "      <th>Support vector machine</th>\n",
       "      <td>0.75347</td>\n",
       "      <td>0.746</td>\n",
       "      <td>0.510</td>\n",
       "      <td>0.703</td>\n",
       "      <td>0.744</td>\n",
       "    </tr>\n",
       "    <tr>\n",
       "      <th>Averaged classifiers</th>\n",
       "      <td>NaN</td>\n",
       "      <td>NaN</td>\n",
       "      <td>NaN</td>\n",
       "      <td>0.792</td>\n",
       "      <td>NaN</td>\n",
       "    </tr>\n",
       "  </tbody>\n",
       "</table>\n",
       "</div>"
      ],
      "text/plain": [
       "                             Base Score  Score  Kaggle Base Score  \\\n",
       "Logistic Regression             0.74757  0.808              0.634   \n",
       "Naive Bayes                     0.69792  0.704              0.591   \n",
       "Stochastic gradient descent     0.69792  0.717              0.617   \n",
       "K-nearest neighbors             0.56267  0.563              0.543   \n",
       "Decision Tree                   0.51736  0.534              0.559   \n",
       "Random forest                   0.65295  0.662              0.529   \n",
       "Support vector machine          0.75347  0.746              0.510   \n",
       "Averaged classifiers                NaN    NaN                NaN   \n",
       "\n",
       "                             Kaggle Score  Real-Time Score  \n",
       "Logistic Regression                 0.834            0.808  \n",
       "Naive Bayes                         0.661            0.704  \n",
       "Stochastic gradient descent         0.774            0.717  \n",
       "K-nearest neighbors                 0.561            0.563  \n",
       "Decision Tree                       0.565            0.534  \n",
       "Random forest                       0.734            0.662  \n",
       "Support vector machine              0.703            0.744  \n",
       "Averaged classifiers                0.792              NaN  "
      ]
     },
     "execution_count": 27,
     "metadata": {},
     "output_type": "execute_result"
    }
   ],
   "source": [
    "log_base_score = 0.74757\n",
    "nb_base_score = 0.69792\n",
    "sgd_base_score = 0.69792\n",
    "knn_base_score = 0.56267\n",
    "dtree_base_score = 0.51736\n",
    "forest_base_score = 0.65295\n",
    "svm_base_score = 0.75347\n",
    "avg_base_score = None\n",
    "\n",
    "log_score = 0.808\n",
    "nb_score = 0.704\n",
    "sgd_score = 0.717\n",
    "knn_score = 0.563\n",
    "dtree_score = 0.534\n",
    "forest_score = 0.662\n",
    "svm_score = 0.746\n",
    "avg_score = None\n",
    "\n",
    "kaggle_base_log_score = 0.634\n",
    "kaggle_base_nb_score = 0.591\n",
    "kaggle_base_sgd_score = 0.617\n",
    "kaggle_base_knn_score = 0.543\n",
    "kaggle_base_dtree_score = 0.559\n",
    "kaggle_base_forest_score = 0.529\n",
    "kaggle_base_svm_score = 0.510\n",
    "kaggle_base_avg_score = None\n",
    "\n",
    "kaggle_log_score = 0.834\n",
    "kaggle_nb_score = 0.661\n",
    "kaggle_sgd_score = 0.774\n",
    "kaggle_knn_score = 0.561\n",
    "kaggle_dtree_score = 0.565\n",
    "kaggle_forest_score = 0.734\n",
    "kaggle_svm_score = 0.703\n",
    "kaggle_avg_score = 0.792\n",
    "\n",
    "scores_table = pd.DataFrame({\"Base Score\": [log_base_score, nb_base_score, sgd_base_score, knn_base_score, dtree_base_score,\n",
    "                                            forest_base_score, svm_base_score, avg_base_score],\n",
    "                             \"Score\": [log_score, nb_score, sgd_score, knn_score, dtree_score, forest_score, svm_score, avg_score],\n",
    "                             \"Kaggle Base Score\": [kaggle_base_log_score, kaggle_base_nb_score, kaggle_base_sgd_score, kaggle_base_knn_score, kaggle_base_dtree_score, \n",
    "                                                   kaggle_base_forest_score, kaggle_base_svm_score, kaggle_base_avg_score],\n",
    "                             \"Kaggle Score\": [kaggle_log_score, kaggle_nb_score, kaggle_sgd_score, kaggle_knn_score, kaggle_dtree_score,\n",
    "                                              kaggle_forest_score, kaggle_svm_score, kaggle_avg_score],\n",
    "                             \"Real-Time Score\": [log_score_rt, nb_score_rt, sgd_score_rt, knn_score_rt, dtree_score_rt, forest_score_rt,\n",
    "                                                 svm_score_rt, None]\n",
    "                             }\n",
    "                            ).set_axis(\n",
    "                                 [\"Logistic Regression\", \"Naive Bayes\", \"Stochastic gradient descent\", \"K-nearest neighbors\", \n",
    "                                  \"Decision Tree\", \"Random forest\", \"Support vector machine\", \"Averaged classifiers\"], axis=\"index\"\n",
    "                                 )\n",
    "                             \n",
    "scores_table"
   ]
  }
 ],
 "metadata": {
  "interpreter": {
   "hash": "b0704b5f16a1388f986ccaeadcccf8c1c9a876b02e39bf3eec2c267b2b75455d"
  },
  "kernelspec": {
   "display_name": "Python 3.9.5 64-bit ('base': conda)",
   "language": "python",
   "name": "python3"
  },
  "language_info": {
   "codemirror_mode": {
    "name": "ipython",
    "version": 3
   },
   "file_extension": ".py",
   "mimetype": "text/x-python",
   "name": "python",
   "nbconvert_exporter": "python",
   "pygments_lexer": "ipython3",
   "version": "3.9.5"
  },
  "orig_nbformat": 4
 },
 "nbformat": 4,
 "nbformat_minor": 2
}
